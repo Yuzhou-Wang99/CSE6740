{
 "cells": [
  {
   "cell_type": "code",
   "execution_count": 1,
   "id": "7847eb9e-f8dd-4440-923c-f23269e22e9c",
   "metadata": {},
   "outputs": [],
   "source": [
    "import scipy.io\n",
    "import time\n",
    "import numpy as np"
   ]
  },
  {
   "cell_type": "code",
   "execution_count": null,
   "id": "c015dacd-1fe0-4b2c-a5eb-423d55581e7a",
   "metadata": {},
   "outputs": [],
   "source": [
    "## Please do not forget to keep `movies_data.mat` file in the same folder as this notebook."
   ]
  },
  {
   "cell_type": "code",
   "execution_count": 13,
   "id": "c0acad53-729a-4ee9-b663-b362867f2bdd",
   "metadata": {},
   "outputs": [],
   "source": [
    "def my_recommender(rate_mat, lr, with_reg):\n",
    "    \"\"\"\n",
    "    :param rate_mat: training rating matrix (with zeros for missing ratings)\n",
    "    :param lr: latent dimension (low rank)\n",
    "    :param with_reg: boolean flag, set true for using regularization\n",
    "    :return: U, V, b_u, b_i, global_bias\"\"\"\n",
    "\n",
    "    #initializations\n",
    "    n_user, n_item = rate_mat.shape\n",
    "    U = np.random.rand(n_user, lr) / lr\n",
    "    V = np.random.rand(n_item, lr) / lr\n",
    "    b_u = np.zeros((n_user, 1))\n",
    "    b_i = np.zeros((n_item, 1))\n",
    "    global_bias = np.sum(rate_mat) / np.sum(rate_mat > 0)\n",
    "\n",
    "    # TODO pick hyperparams\n",
    "    max_iter = 100\n",
    "    learning_rate = 0.01\n",
    "    \n",
    "    # if with_reg is true then we have the regurization term, otherwise the lambda is 0.\n",
    "    if with_reg ==True:\n",
    "        u_reg = 0.1\n",
    "        v_reg = 0.1\n",
    "        b_reg = 0.01\n",
    "    else:\n",
    "        u_reg = 0\n",
    "        v_reg = 0\n",
    "        b_reg = 0\n",
    "\n",
    "    # TODO implement your code here\n",
    "    itr = 0\n",
    "    avg_error = 1\n",
    "    rate_mat_size = np.count_nonzero(rate_mat)\n",
    "    \n",
    "    # Indices where ratings exist\n",
    "    non_zero_indices = np.argwhere(rate_mat > 0)\n",
    "    #rate_mat_size = np.count_nonzero(rate_mat) don't need this, could just use len(non_zero_indices)\n",
    "    \n",
    "    while(itr <= max_iter and avg_error>0.1):\n",
    "        total_error = 0\n",
    "        # Loop over all known ratings\n",
    "        for u, i in non_zero_indices:\n",
    "            # True rating\n",
    "            r_ui = rate_mat[u, i]\n",
    "            \n",
    "            # Predicted rating\n",
    "            pred_ui = global_bias+b_u[u]+b_i[i]+np.dot(U[u,:],V[i,:].T)\n",
    "\n",
    "            #error\n",
    "            error = r_ui-pred_ui\n",
    "            total_error += error**2\n",
    "\n",
    "            #Updateing U,V\n",
    "            U[u,:] += learning_rate * (error * V[i,:] - u_reg * U[u,:])\n",
    "            V[i,:] += learning_rate * (error * U[u,:] - v_reg * V[i,:])\n",
    "\n",
    "            #Updating bias b_u,b_i\n",
    "            b_u[u] += learning_rate * (error - b_reg * b_u[u])\n",
    "            b_i[i] += learning_rate * (error - b_reg * b_i[i])\n",
    "\n",
    "\n",
    "        itr+=1\n",
    "        avg_error = total_error/len(non_zero_indices)\n",
    "    \n",
    "\n",
    "\n",
    "    return U, V, b_u, b_i, global_bias"
   ]
  },
  {
   "cell_type": "code",
   "execution_count": 14,
   "id": "305653b2-1399-4aff-9266-4e5eabd861b6",
   "metadata": {},
   "outputs": [
    {
     "name": "stdout",
     "output_type": "stream",
     "text": [
      "SVD-noReg-1\t0.8632\t0.9241\t129.37\n",
      "\n",
      "SVD-withReg-1\t0.8709\t0.9186\t119.69\n",
      "\n",
      "SVD-noReg-3\t0.8081\t0.9552\t129.19\n",
      "\n",
      "SVD-withReg-3\t0.8272\t0.9087\t122.41\n",
      "\n",
      "SVD-noReg-5\t0.7522\t0.9820\t130.22\n",
      "\n",
      "SVD-withReg-5\t0.7967\t0.9129\t124.93\n",
      "\n"
     ]
    }
   ],
   "source": [
    "cell = scipy.io.loadmat('movies_data.mat')\n",
    "rate_mat = cell['train']\n",
    "test_mat = cell['test']\n",
    "\n",
    "low_rank_ls = [1, 3, 5]\n",
    "for lr in low_rank_ls:\n",
    "    for reg_flag in [False, True]:\n",
    "        st = time.time()\n",
    "        U, V, b_u, b_i, global_bias = my_recommender(rate_mat, lr, reg_flag)\n",
    "        t = time.time() - st\n",
    "        \n",
    "        # Compute RMSE for training set\n",
    "        mask_train = (rate_mat > 0)\n",
    "        train_pred = global_bias + b_u + b_i.T + U.dot(V.T)\n",
    "        train_rmse = np.sqrt(np.sum(((rate_mat - train_pred) * mask_train) ** 2) / float(np.sum(mask_train)))\n",
    "        \n",
    "        # Compute RMSE for test set\n",
    "        mask_test = (test_mat > 0)\n",
    "        test_pred = global_bias + b_u + b_i.T + U.dot(V.T)\n",
    "        test_rmse = np.sqrt(np.sum(((test_mat - test_pred) * mask_test) ** 2) / float(np.sum(mask_test)))\n",
    "        \n",
    "        print('SVD-%s-%i\\t%.4f\\t%.4f\\t%.2f\\n' % ('withReg' if reg_flag else 'noReg', lr, train_rmse, test_rmse, t))"
   ]
  }
 ],
 "metadata": {
  "kernelspec": {
   "display_name": "base",
   "language": "python",
   "name": "python3"
  },
  "language_info": {
   "codemirror_mode": {
    "name": "ipython",
    "version": 3
   },
   "file_extension": ".py",
   "mimetype": "text/x-python",
   "name": "python",
   "nbconvert_exporter": "python",
   "pygments_lexer": "ipython3",
   "version": "3.12.4"
  }
 },
 "nbformat": 4,
 "nbformat_minor": 5
}
